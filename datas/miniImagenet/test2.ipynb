{
 "cells": [
  {
   "cell_type": "code",
   "execution_count": 6,
   "metadata": {},
   "outputs": [
    {
     "name": "stdout",
     "output_type": "stream",
     "text": [
      "65\n",
      "21\n",
      "1\n"
     ]
    }
   ],
   "source": [
    "import csv\n",
    "with open(\"./train.csv\",'r') as f:\n",
    "    reader = csv.reader(f, delimiter=',')\n",
    "    train = set()\n",
    "    for row in reader:\n",
    "        train.add(row[1])\n",
    "print(len(train))\n",
    "\n",
    "with open(\"./test.csv\",'r') as f:\n",
    "    reader = csv.reader(f, delimiter=',')\n",
    "    test = set()\n",
    "    for row in reader:\n",
    "        test.add(row[1])\n",
    "print(len(test))\n",
    "\n",
    "a = train & test\n",
    "print(len(a))"
   ]
  }
 ],
 "metadata": {
  "interpreter": {
   "hash": "e8af5b530489d87350c558dce91ebc0f97e77990ab9d68db5f5c910130ef858a"
  },
  "kernelspec": {
   "display_name": "Python 3.7.11 ('py3')",
   "language": "python",
   "name": "python3"
  },
  "language_info": {
   "codemirror_mode": {
    "name": "ipython",
    "version": 3
   },
   "file_extension": ".py",
   "mimetype": "text/x-python",
   "name": "python",
   "nbconvert_exporter": "python",
   "pygments_lexer": "ipython3",
   "version": "3.7.11"
  },
  "orig_nbformat": 4
 },
 "nbformat": 4,
 "nbformat_minor": 2
}
